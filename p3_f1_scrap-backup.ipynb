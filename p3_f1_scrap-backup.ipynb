{
 "cells": [
  {
   "cell_type": "code",
   "execution_count": 1,
   "metadata": {},
   "outputs": [],
   "source": [
    "#import libraries\n",
    "\n",
    "import pandas as pd\n",
    "from bs4 import BeautifulSoup as bs\n",
    "from pandas.io.json import json_normalize\n",
    "import requests\n",
    "import matplotlib.pyplot as plt\n",
    "import os\n",
    "import time\n",
    "\n",
    "import datetime\n",
    "import re\n",
    "\n",
    "#import json"
   ]
  },
  {
   "cell_type": "code",
   "execution_count": null,
   "metadata": {},
   "outputs": [],
   "source": [
    "url = 'https://www.formula1.com/en/results.html/2010/races.html'"
   ]
  },
  {
   "cell_type": "code",
   "execution_count": null,
   "metadata": {},
   "outputs": [],
   "source": [
    "html = requests.get(url).content\n",
    "soup = bs(html, 'lxml')\n",
    "soup"
   ]
  },
  {
   "cell_type": "code",
   "execution_count": null,
   "metadata": {},
   "outputs": [],
   "source": [
    "gp = [i.text.strip() for i in soup.select('td.dark>a')]\n",
    "gp\n"
   ]
  },
  {
   "cell_type": "code",
   "execution_count": null,
   "metadata": {},
   "outputs": [],
   "source": [
    "\"\"\"\n",
    "function to get tables from 1950 to 2019\n",
    "\"\"\"\n",
    "gp=[]\n",
    "date=[]\n",
    "winner_full=[]\n",
    "winner=[]\n",
    "car=[]\n",
    "laps=[]\n",
    "total_time=[]\n",
    "\n",
    "overall_table = pd.DataFrame()\n",
    "\n",
    "for k in range(2017,2020):\n",
    "    url = (f\"https://www.formula1.com/en/results.html/{k}/races.html\")\n",
    "    html = requests.get(url).content\n",
    "    soup = bs(html, 'lxml')\n",
    "    print(f\"Reading Formula 1 data for the year {k}.\")\n",
    "    time.sleep(3)\n",
    "\n",
    "    gp = [i.text.strip() for i in soup.select('td.dark>a')]\n",
    "\n",
    "    date = [i.text.strip() for i in soup.select('td.dark.hide-for-mobile')]\n",
    "\n",
    "    winner_full = [i.text.strip() for i in soup.select('td.dark.bold span:nth-child(1), td.dark.bold span:nth-child(2)')]\n",
    "\n",
    "    car = [i.text.strip() for i in soup.select('td.semi-bold.uppercase')]\n",
    "\n",
    "    laps = [i.text.strip() for i in soup.select('td.bold.hide-for-mobile')]\n",
    "\n",
    "    total_time = [i.text.strip() for i in soup.select('td.dark.bold.hide-for-tablet')]\n",
    "\n",
    "    winner=[winner_full[i]+' '+winner_full[i+1] for i in range(0,int((len(winner_full))),2)]\n",
    "\n",
    "    season_table = (pd.DataFrame([gp,date,winner,car,laps,total_time],index=['Grand Prix','Date','Driver','Car','Laps','Time']).T).shift()[1:]\n",
    "\n",
    "    overall_table = overall_table.append(season_table, ignore_index=True).shift()[1:]        \n",
    "\n",
    "    \n",
    "    #os.chdir(\"C:/Users/aciag/ih/Week3_project/output/\")\n",
    "     #   overall_table.to_csv(\"f1_results_raw.csv\")\n",
    "      #  print(\"File is ready!\")"
   ]
  },
  {
   "cell_type": "code",
   "execution_count": null,
   "metadata": {},
   "outputs": [],
   "source": [
    "#overall_table.shape\n",
    "\n",
    "#overall_table.shape\n",
    "\n",
    "gp_wins_table=['Date','Car','Laps','Time']\n",
    "\n",
    "gp_wins=(overall_table.groupby('Driver').count()).drop(gp_wins_table, axis=1)\n",
    "gp_wins\n",
    "#results=grouped.sort_values(ascending=False).head(10).reset_index()\n"
   ]
  },
  {
   "cell_type": "code",
   "execution_count": null,
   "metadata": {},
   "outputs": [],
   "source": [
    "overall_table"
   ]
  },
  {
   "cell_type": "code",
   "execution_count": null,
   "metadata": {},
   "outputs": [],
   "source": [
    "#globals\n",
    "\n",
    "os.chdir(\"C:/Users/aciag/ih/Week3_project/output/\")\n",
    "overall_table = pd.DataFrame()\n",
    "\n",
    "year=int(input('Please specify the F1 season you would like to see results for, ranging from 2000 to 2019: '))\n",
    "\n",
    "def acquire():\n",
    "    url = (f\"https://www.formula1.com/en/results.html/{year}/races.html\")\n",
    "    html = requests.get(url).content\n",
    "    soup = bs(html, 'lxml')\n",
    "    print(f\"Reading Formula 1 data for the year {year}.\")\n",
    "    time.sleep(2)\n",
    "#    soup.to_csv(f\"f1_{year}_results_raw.csv\")\n",
    "#    print(\"Raw data saved in \", os.getcwd())\n",
    "    return soup\n",
    "\n",
    "\n",
    "\n",
    "#def wrangle(df,year=year):\n",
    "def wrangle(soup):\n",
    "    gp=[]\n",
    "    date=[]\n",
    "    winner_full=[]\n",
    "    winner=[]\n",
    "    car=[]\n",
    "    laps=[]\n",
    "    total_time=[]\n",
    "    \n",
    "    gp = [i.text.strip() for i in soup.select('td.dark>a')]\n",
    "    date = [i.text.strip() for i in soup.select('td.dark.hide-for-mobile')]\n",
    "    winner_full = [i.text.strip() for i in soup.select('td.dark.bold span:nth-child(1), td.dark.bold span:nth-child(2)')]\n",
    "    car = [i.text.strip() for i in soup.select('td.semi-bold.uppercase')]\n",
    "    laps = [i.text.strip() for i in soup.select('td.bold.hide-for-mobile')]\n",
    "    total_time = [i.text.strip() for i in soup.select('td.dark.bold.hide-for-tablet')]\n",
    "    winner=[winner_full[i]+' '+winner_full[i+1] for i in range(0,int((len(winner_full))),2)]\n",
    "    season_table = (pd.DataFrame([gp,date,winner,car,laps,total_time],index=['Grand Prix','Date','Driver','Car','Laps','Time']).T).shift()[1:]\n",
    "    overall_table = overall_table.append(season_table, ignore_index=True).shift()[1:]\n",
    "    \n",
    "    return overall_table\n",
    "\n",
    "def raw(overall_table):\n",
    "    overall_table.to_csv(\"raw_data.csv\")\n",
    "\n",
    "def analyze(overall_table):\n",
    "    \n",
    "    gp_wins_table=['Date','Car','Laps','Time']\n",
    "    gp_wins=(overall_table.groupby('Driver').count()).drop(gp_wins_table, axis=1)\n",
    "        \n",
    "    return gp_wins\n",
    "\n",
    "def report(gp_wins,year=year):\n",
    "    title = 'Number of wins in Formula 1 Grand Prix'+str(year)\n",
    "    fig, ax =plt.subplots(figsize=(15,8))\n",
    "    barchart=sns.barplot(data=results, x='Make',y='Combined MPG')\n",
    "    plt.title(title, fontsize=16)\n",
    "    fig=barchart.get_figure()\n",
    "    fig.savefig(title+'.png')\n",
    "\n",
    "if __name__=='__main__':\n",
    "    data=acquire()\n",
    "    filtered=wrangle(data)\n",
    "    results=analyze(filtered)\n",
    "    report(results)"
   ]
  },
  {
   "cell_type": "code",
   "execution_count": null,
   "metadata": {},
   "outputs": [],
   "source": [
    "os.getcwd()"
   ]
  },
  {
   "cell_type": "code",
   "execution_count": null,
   "metadata": {},
   "outputs": [],
   "source": []
  },
  {
   "cell_type": "code",
   "execution_count": null,
   "metadata": {},
   "outputs": [],
   "source": [
    "\"\"\"\n",
    "function to get tables from 1950 to 2019\n",
    "\"\"\"\n",
    "gp=[]\n",
    "date=[]\n",
    "winner=[]\n",
    "car=[]\n",
    "laps=[]\n",
    "total_time=[]\n",
    "\n",
    "overall_table = pd.DataFrame()\n",
    "\n",
    "#def get_raw():\n",
    "    \n",
    "for k in range(2015,2020):\n",
    "    url = (f\"https://www.formula1.com/en/results.html/{k}/races.html\")\n",
    "    html = requests.get(url).content\n",
    "    soup = bs(html, 'lxml')\n",
    "    print(f\"Reading Formula 1 data for the year {k}.\")\n",
    "    time.sleep(2)\n",
    "\n",
    "    winner_full_season = [i.text.strip() for i in soup.select('td.dark.bold span:nth-child(1), td.dark.bold span:nth-child(2)')]\n",
    "\n",
    "    gp_season = [i.text.strip() for i in soup.select('td.dark>a')]\n",
    "    gp.append(gp_season)\n",
    "\n",
    "    date_season = [i.text.strip() for i in soup.select('td.dark.hide-for-mobile')]\n",
    "    date.append(gp_season)\n",
    "\n",
    "    car_season = [i.text.strip() for i in soup.select('td.semi-bold.uppercase')]\n",
    "    car.append(car_season)\n",
    "\n",
    "    laps_season = [i.text.strip() for i in soup.select('td.bold.hide-for-mobile')]\n",
    "    laps.append(laps_season)\n",
    "\n",
    "    total_time_season = [i.text.strip() for i in soup.select('td.dark.bold.hide-for-tablet')]\n",
    "    total_time.append(total_time_season)\n",
    "\n",
    "    winner_full_season=[winner_full_season[i]+' '+winner_full_season[i+1] for i in range(0,int((len(winner_full_season))),2)]\n",
    "    winner.append(winner_full_season)\n",
    "\n",
    "    season_table = (pd.DataFrame([gp,date,winner,car,laps,total_time],index=['Grand Prix','Date','Driver','Car','Laps','Time']).T).shift()[1:]\n",
    "\n",
    "    overall_table = overall_table.append(season_table, ignore_index=True).shift()[1:]\n",
    "\n",
    "   # os.chdir(\"C:/Users/aciag/ih/Week3_project/output/\")\n",
    "    #overall_table.to_csv(\"f1_results_raw.csv\")\n",
    "   # print(\"File is ready!\")"
   ]
  },
  {
   "cell_type": "code",
   "execution_count": null,
   "metadata": {},
   "outputs": [],
   "source": [
    "overall_table"
   ]
  },
  {
   "cell_type": "code",
   "execution_count": null,
   "metadata": {},
   "outputs": [],
   "source": [
    "gp_wins_table=['Date','Car','Laps','Time']\n",
    "\n",
    "gp_wins=(overall_table.groupby('Driver').count()).drop(gp_wins_table, axis=1)\n",
    "gp_wins"
   ]
  },
  {
   "cell_type": "code",
   "execution_count": null,
   "metadata": {},
   "outputs": [],
   "source": []
  },
  {
   "cell_type": "code",
   "execution_count": null,
   "metadata": {},
   "outputs": [],
   "source": []
  },
  {
   "cell_type": "code",
   "execution_count": null,
   "metadata": {},
   "outputs": [],
   "source": []
  },
  {
   "cell_type": "code",
   "execution_count": null,
   "metadata": {},
   "outputs": [],
   "source": []
  },
  {
   "cell_type": "code",
   "execution_count": null,
   "metadata": {},
   "outputs": [],
   "source": []
  },
  {
   "cell_type": "code",
   "execution_count": null,
   "metadata": {},
   "outputs": [],
   "source": []
  },
  {
   "cell_type": "code",
   "execution_count": null,
   "metadata": {},
   "outputs": [],
   "source": []
  },
  {
   "cell_type": "code",
   "execution_count": null,
   "metadata": {},
   "outputs": [],
   "source": []
  },
  {
   "cell_type": "code",
   "execution_count": null,
   "metadata": {},
   "outputs": [],
   "source": []
  },
  {
   "cell_type": "code",
   "execution_count": null,
   "metadata": {},
   "outputs": [],
   "source": []
  },
  {
   "cell_type": "code",
   "execution_count": null,
   "metadata": {},
   "outputs": [],
   "source": []
  }
 ],
 "metadata": {
  "kernelspec": {
   "display_name": "Python 3",
   "language": "python",
   "name": "python3"
  },
  "language_info": {
   "codemirror_mode": {
    "name": "ipython",
    "version": 3
   },
   "file_extension": ".py",
   "mimetype": "text/x-python",
   "name": "python",
   "nbconvert_exporter": "python",
   "pygments_lexer": "ipython3",
   "version": "3.7.4"
  }
 },
 "nbformat": 4,
 "nbformat_minor": 2
}
